{
 "cells": [
  {
   "cell_type": "markdown",
   "metadata": {},
   "source": [
    "# Majority Classifier"
   ]
  },
  {
   "cell_type": "code",
   "execution_count": 15,
   "metadata": {
    "collapsed": false
   },
   "outputs": [
    {
     "data": {
      "text/plain": [
       "array([0, 1])"
      ]
     },
     "execution_count": 15,
     "metadata": {},
     "output_type": "execute_result"
    }
   ],
   "source": [
    "import numpy as np\n",
    "from sklearn import datasets\n",
    "\n",
    "# load and parse the data file\n",
    "cancer = datasets.load_breast_cancer()\n",
    "cancer_X = cancer.data\n",
    "cancer_y = cancer.target\n",
    "np.unique(cancer_y)\n",
    "\n",
    "# shape (569,30)\n",
    "# print cancer_X.shape"
   ]
  },
  {
   "cell_type": "code",
   "execution_count": 16,
   "metadata": {
    "collapsed": false
   },
   "outputs": [],
   "source": [
    "# split the data into training and test sets\n",
    "# a random permutation, to split the data randomly\n",
    "a = np.random.seed(0)\n",
    "indices = np.random.permutation(len(cancer_X))\n",
    "\n",
    "#[:-10] : elements from 0 to the length - 11\n",
    "#[10:] : elements from 11 to the length - 1\n",
    "cancer_X_train = cancer_X[indices[:-190]]\n",
    "cancer_y_train = cancer_y[indices[:-190]]\n",
    "cancer_X_test = cancer_X[indices[-190:]]\n",
    "cancer_y_test = cancer_y[indices[-190:]]\n",
    "\n",
    "#print cancer_X_train.shape\n",
    "#print cancer_y_train.shape\n",
    "#print cancer_X_test.shape\n",
    "#print cancer_y_test.shape\n",
    "\n",
    "#print cancer_y_test"
   ]
  },
  {
   "cell_type": "code",
   "execution_count": 17,
   "metadata": {
    "collapsed": false
   },
   "outputs": [],
   "source": [
    "# NeighborsBase, KNeighborsMixin,SupervisedIntegerMixin, ClassifierMixin\n",
    "from sklearn.base import ClassifierMixin\n",
    "from sklearn.neighbors.base import SupervisedIntegerMixin\n",
    "from sklearn.neighbors.base import NeighborsBase,KNeighborsMixin\n",
    "\n",
    "class majorityClassifier(NeighborsBase, KNeighborsMixin,SupervisedIntegerMixin, ClassifierMixin):\n",
    "    # cancer : databse\n",
    "    # cancer_x : data\n",
    "    # cancer_y : target\n",
    "    \n",
    "    def __init__ (self, result):\n",
    "        self.result = result\n",
    "    \n",
    "    # X : cancer_X_train\n",
    "    # y : cancer_y_train\n",
    "    def fit(self,X,y):\n",
    "        # count_majority_label \n",
    "        count_zero = 0\n",
    "        count_one = 0\n",
    "        for i in y:\n",
    "            if (i == 0):\n",
    "                count_zero = count_zero + 1\n",
    "            else:\n",
    "                count_one = count_one + 1\n",
    "        if(count_one > count_zero):\n",
    "            self.result = 1\n",
    "        else:\n",
    "            self.result = 0\n",
    "        return self\n",
    "    \n",
    "    \n",
    "    # X : cancer_X_test\n",
    "    # y : cancer_y_test\n",
    "    def predict(self,X):\n",
    "        res = []\n",
    "        for i in range (len(X)):\n",
    "            res.append(self.result)\n",
    "        return res"
   ]
  },
  {
   "cell_type": "code",
   "execution_count": 18,
   "metadata": {
    "collapsed": false
   },
   "outputs": [
    {
     "data": {
      "text/plain": [
       "[1,\n",
       " 1,\n",
       " 1,\n",
       " 1,\n",
       " 1,\n",
       " 1,\n",
       " 1,\n",
       " 1,\n",
       " 1,\n",
       " 1,\n",
       " 1,\n",
       " 1,\n",
       " 1,\n",
       " 1,\n",
       " 1,\n",
       " 1,\n",
       " 1,\n",
       " 1,\n",
       " 1,\n",
       " 1,\n",
       " 1,\n",
       " 1,\n",
       " 1,\n",
       " 1,\n",
       " 1,\n",
       " 1,\n",
       " 1,\n",
       " 1,\n",
       " 1,\n",
       " 1,\n",
       " 1,\n",
       " 1,\n",
       " 1,\n",
       " 1,\n",
       " 1,\n",
       " 1,\n",
       " 1,\n",
       " 1,\n",
       " 1,\n",
       " 1,\n",
       " 1,\n",
       " 1,\n",
       " 1,\n",
       " 1,\n",
       " 1,\n",
       " 1,\n",
       " 1,\n",
       " 1,\n",
       " 1,\n",
       " 1,\n",
       " 1,\n",
       " 1,\n",
       " 1,\n",
       " 1,\n",
       " 1,\n",
       " 1,\n",
       " 1,\n",
       " 1,\n",
       " 1,\n",
       " 1,\n",
       " 1,\n",
       " 1,\n",
       " 1,\n",
       " 1,\n",
       " 1,\n",
       " 1,\n",
       " 1,\n",
       " 1,\n",
       " 1,\n",
       " 1,\n",
       " 1,\n",
       " 1,\n",
       " 1,\n",
       " 1,\n",
       " 1,\n",
       " 1,\n",
       " 1,\n",
       " 1,\n",
       " 1,\n",
       " 1,\n",
       " 1,\n",
       " 1,\n",
       " 1,\n",
       " 1,\n",
       " 1,\n",
       " 1,\n",
       " 1,\n",
       " 1,\n",
       " 1,\n",
       " 1,\n",
       " 1,\n",
       " 1,\n",
       " 1,\n",
       " 1,\n",
       " 1,\n",
       " 1,\n",
       " 1,\n",
       " 1,\n",
       " 1,\n",
       " 1,\n",
       " 1,\n",
       " 1,\n",
       " 1,\n",
       " 1,\n",
       " 1,\n",
       " 1,\n",
       " 1,\n",
       " 1,\n",
       " 1,\n",
       " 1,\n",
       " 1,\n",
       " 1,\n",
       " 1,\n",
       " 1,\n",
       " 1,\n",
       " 1,\n",
       " 1,\n",
       " 1,\n",
       " 1,\n",
       " 1,\n",
       " 1,\n",
       " 1,\n",
       " 1,\n",
       " 1,\n",
       " 1,\n",
       " 1,\n",
       " 1,\n",
       " 1,\n",
       " 1,\n",
       " 1,\n",
       " 1,\n",
       " 1,\n",
       " 1,\n",
       " 1,\n",
       " 1,\n",
       " 1,\n",
       " 1,\n",
       " 1,\n",
       " 1,\n",
       " 1,\n",
       " 1,\n",
       " 1,\n",
       " 1,\n",
       " 1,\n",
       " 1,\n",
       " 1,\n",
       " 1,\n",
       " 1,\n",
       " 1,\n",
       " 1,\n",
       " 1,\n",
       " 1,\n",
       " 1,\n",
       " 1,\n",
       " 1,\n",
       " 1,\n",
       " 1,\n",
       " 1,\n",
       " 1,\n",
       " 1,\n",
       " 1,\n",
       " 1,\n",
       " 1,\n",
       " 1,\n",
       " 1,\n",
       " 1,\n",
       " 1,\n",
       " 1,\n",
       " 1,\n",
       " 1,\n",
       " 1,\n",
       " 1,\n",
       " 1,\n",
       " 1,\n",
       " 1,\n",
       " 1,\n",
       " 1,\n",
       " 1,\n",
       " 1,\n",
       " 1,\n",
       " 1,\n",
       " 1,\n",
       " 1,\n",
       " 1,\n",
       " 1,\n",
       " 1,\n",
       " 1,\n",
       " 1,\n",
       " 1,\n",
       " 1]"
      ]
     },
     "execution_count": 18,
     "metadata": {},
     "output_type": "execute_result"
    }
   ],
   "source": [
    "m = majorityClassifier(10)\n",
    "\n",
    "# X : cancer_X_train\n",
    "# y : cancer_y_train\n",
    "X = cancer_X_train\n",
    "y = cancer_y_train\n",
    "m.fit(X,y)\n",
    "X2 = cancer_X_test\n",
    "y2 = cancer_y_test\n",
    "m.predict(X2)"
   ]
  },
  {
   "cell_type": "code",
   "execution_count": 19,
   "metadata": {
    "collapsed": false
   },
   "outputs": [
    {
     "data": {
      "text/plain": [
       "0.61052631578947369"
      ]
     },
     "execution_count": 19,
     "metadata": {},
     "output_type": "execute_result"
    }
   ],
   "source": [
    "from sklearn.metrics import accuracy_score\n",
    "accuracy_score(y2,m.predict(X2))"
   ]
  },
  {
   "cell_type": "code",
   "execution_count": 20,
   "metadata": {
    "collapsed": false
   },
   "outputs": [
    {
     "name": "stdout",
     "output_type": "stream",
     "text": [
      "result of cross-validation : 0.627420402859\n"
     ]
    }
   ],
   "source": [
    "from sklearn import cross_validation\n",
    "from sklearn.cross_validation import cross_val_score\n",
    "from sklearn import datasets, svm\n",
    "maj_cross=cross_val_score(m,cancer_X,cancer_y)\n",
    "print \"result of cross-validation : {0}\".format(maj_cross.mean())"
   ]
  },
  {
   "cell_type": "markdown",
   "metadata": {
    "collapsed": true
   },
   "source": [
    "# LR"
   ]
  },
  {
   "cell_type": "code",
   "execution_count": 87,
   "metadata": {
    "collapsed": true
   },
   "outputs": [],
   "source": [
    "from sklearn.linear_model.base import BaseEstimator\n",
    "from sklearn.linear_model.base import SparseCoefMixin\n",
    "from sklearn.linear_model.base import LinearClassifierMixin"
   ]
  },
  {
   "cell_type": "code",
   "execution_count": 88,
   "metadata": {
    "collapsed": true
   },
   "outputs": [],
   "source": [
    "# sigmoid function  \n",
    "def sigmoid(inX):  \n",
    "    return 1.0 / (1 + exp(-inX))  "
   ]
  },
  {
   "cell_type": "code",
   "execution_count": 89,
   "metadata": {
    "collapsed": false
   },
   "outputs": [],
   "source": [
    "class LR(BaseEstimator,LinearClassifierMixin,SparseCoefMixin):\n",
    "    def __init__(self, alph, m):\n",
    "        self.alph=alph\n",
    "        self.m = m\n",
    "        \n",
    "    def fit(self, X, y):\n",
    "        # nb lines of X * 1 : 1\n",
    "        ones_l = np.ones((X.shape[0],1))\n",
    "        self.X_tr = np.hstack((ones,X)) \n",
    "        #reshape of y\n",
    "        self.y_tr = y.reshape((y.shape[0]),1) \n",
    "        self.ones_c = np.ones((self.X_tr.shape[1],1))"
   ]
  },
  {
   "cell_type": "code",
   "execution_count": null,
   "metadata": {
    "collapsed": true
   },
   "outputs": [],
   "source": []
  }
 ],
 "metadata": {
  "kernelspec": {
   "display_name": "Python 2",
   "language": "python",
   "name": "python2"
  },
  "language_info": {
   "codemirror_mode": {
    "name": "ipython",
    "version": 2
   },
   "file_extension": ".py",
   "mimetype": "text/x-python",
   "name": "python",
   "nbconvert_exporter": "python",
   "pygments_lexer": "ipython2",
   "version": "2.7.13"
  }
 },
 "nbformat": 4,
 "nbformat_minor": 2
}
